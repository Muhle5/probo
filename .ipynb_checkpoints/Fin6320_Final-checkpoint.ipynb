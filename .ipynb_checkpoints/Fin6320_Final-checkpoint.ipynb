{
 "cells": [
  {
   "cell_type": "markdown",
   "metadata": {},
   "source": [
    "**1.** (40 points) Compare naive, antithetic, stratified, and control variate Monte Carlo in a\n",
    "\n",
    "Black-Scholes economy. Assume the following:\n",
    "\n",
    "• S0 = $41 (spot price)\n",
    "\n",
    "• K = $40 (strike price)\n",
    "\n",
    "• σ = 0.30 (volatility)\n",
    "\n",
    "• r = 0.08 (risk-free rate)\n",
    "\n",
    "• T = 0.25 (expiry)\n",
    "\n",
    "• δ = 0 (dividend yield)\n",
    "\n",
    "Some notes:\n",
    "\n",
    "• What is the Black-Scholes price?\n",
    "• Use the Black-Scholes delta as your control variate.\n",
    "• Compare prices and standard errors.\n",
    "• Also produce histograms as on page 638 of the McDonald Chapter 19 reading for each\n",
    "Monte Carlo method. Compare them.\n",
    "• Also produce convergence graphs as on page 631 on the McDonald Chapter 19 reading\n",
    "for each Monte Carlo method. Compare them.\n"
   ]
  },
  {
   "cell_type": "code",
   "execution_count": 1,
   "metadata": {
    "collapsed": false
   },
   "outputs": [],
   "source": [
    "import probo\n",
    "import matplotlib.pyplot as plt"
   ]
  },
  {
   "cell_type": "code",
   "execution_count": 2,
   "metadata": {
    "collapsed": true
   },
   "outputs": [],
   "source": [
    "# Naive\n",
    "import numpy as np\n",
    "\n",
    "def NaiveMonteCarloPricer(engine, option, data):\n",
    "    expiry = option.expiry\n",
    "    strike = option.strike\n",
    "    (spot, rate, vol, div) = data.get_data()\n",
    "    replications = engine.replications\n",
    "    dt = expiry / engine.time_steps\n",
    "    disc = np.exp(-rate * dt)\n",
    "    \n",
    "    z = np.random.normal(size = replications)\n",
    "    spotT = spot * np.exp((rate - div - 0.5 * vol * vol) * dt + vol * np.sqrt(dt) * z)\n",
    "    payoffT = option.payoff(spotT)\n",
    "\n",
    "    prc = payoffT.mean() * disc\n",
    "    stdError=payoffT.std()/np.sqrt(replications)\n",
    "\n",
    "    return (prc, stdError)\n"
   ]
  },
  {
   "cell_type": "code",
   "execution_count": 3,
   "metadata": {
    "collapsed": false,
    "scrolled": true
   },
   "outputs": [
    {
     "data": {
      "image/png": "[encoded data removed]",
      "text/plain": [
       "<matplotlib.figure.Figure at 0x249ebc7e7b8>"
      ]
     },
     "metadata": {},
     "output_type": "display_data"
    },
    {
     "name": "stdout",
     "output_type": "stream",
     "text": [
      "The call price via Naive Monte Carlo is: 3.400 and the standard error is 0.015.\n"
     ]
    },
    {
     "data": {
      "image/png": "[encoded data removed]",
      "text/plain": [
       "<matplotlib.figure.Figure at 0x249ed8ca630>"
      ]
     },
     "metadata": {},
     "output_type": "display_data"
    },
    {
     "name": "stdout",
     "output_type": "stream",
     "text": [
      "The put price via Naive Monte Carlo is: 1.607 and the standard error is 0.009.\n"
     ]
    }
   ],
   "source": [
    "#Market data\n",
    "spot = 41.0\n",
    "rate = 0.08\n",
    "volatility = 0.30\n",
    "dividend = 0.0\n",
    "thedata = probo.MarketData(rate, spot, volatility, dividend)\n",
    "\n",
    "expiry = 0.25\n",
    "strike = 40.0\n",
    "thecall = probo.VanillaPayoff(expiry, strike, probo.call_payoff)\n",
    "theput = probo.VanillaPayoff(expiry, strike, probo.put_payoff)\n",
    "\n",
    "\n",
    "nreps = 100000\n",
    "steps = 1\n",
    "pricer = NaiveMonteCarloPricer\n",
    "mcengine = probo.MonteCarloEngine(nreps, steps, pricer)\n",
    "\n",
    "#Calculate Price\n",
    "option1 = probo.OptionFacade(thecall, mcengine, thedata)\n",
    "price1=np.zeros((1000,))\n",
    "for j in range(1000):\n",
    "    (price1[j], stderr1) = option1.price()\n",
    "plt.figure(1)\n",
    "plt.hist(price1, 50, facecolor='blue')\n",
    "plt.show()\n",
    "print(\"The call price via Naive Monte Carlo is: {0:.3f} and the standard error is {1:.3f}.\".format(np.average(price1), stderr1))\n",
    "\n",
    "option2 = probo.OptionFacade(theput, mcengine, thedata)\n",
    "price2 = np.zeros((1000,))\n",
    "for j in range(1000):\n",
    "    (price2[j], stderr2) = option2.price()\n",
    "plt.figure(2)\n",
    "plt.hist(price2, 50, facecolor='green')\n",
    "plt.show()\n",
    "print(\"The put price via Naive Monte Carlo is: {0:.3f} and the standard error is {1:.3f}.\".format(np.average(price2), stderr2))"
   ]
  },
  {
   "cell_type": "code",
   "execution_count": 4,
   "metadata": {
    "collapsed": false
   },
   "outputs": [],
   "source": [
    "#Stratified\n",
    "import numpy as np\n",
    "from scipy.stats import norm\n",
    "\n",
    "def StratifiedMonteCarloPricer(engine, option, data):\n",
    "    expiry = option.expiry\n",
    "    strike = option.strike\n",
    "    (spot, rate, volatility, dividend) = data.get_data()\n",
    "    replications = engine.replications\n",
    "    dt = expiry / engine.time_steps\n",
    "    disc = np.exp(-rate * dt)\n",
    "\n",
    "    u = np.random.uniform(size = replications)\n",
    "    y = np.zeros((replications,))\n",
    "    i = np.arange(replications)\n",
    "    y = (u + i) / replications\n",
    "    e = norm.ppf(y)\n",
    "\n",
    "    spotT = spot * np.exp((rate - dividend - 0.5 * volatility * volatility) * dt + volatility * np.sqrt(dt) * e)\n",
    "    payoffT = option.payoff(spotT)\n",
    "\n",
    "    prc = payoffT.mean() * disc\n",
    "\n",
    "    payoffT_std = np.std(payoffT, ddof = 1)\n",
    "    payoffT_stdError = payoffT_std / np.sqrt(replications)\n",
    "\n",
    "    return (prc, payoffT_stdError)"
   ]
  },
  {
   "cell_type": "code",
   "execution_count": 7,
   "metadata": {
    "collapsed": false
   },
   "outputs": [
    {
     "data": {
      "image/png": "[encoded data removed]",
      "text/plain": [
       "<matplotlib.figure.Figure at 0x249ede89400>"
      ]
     },
     "metadata": {},
     "output_type": "display_data"
    },
    {
     "name": "stdout",
     "output_type": "stream",
     "text": [
      "The call price via Stratified Monte Carlo is: 3.399 and the standard error is 0.145.\n"
     ]
    },
    {
     "data": {
      "image/png": "[encoded data removed]",
      "text/plain": [
       "<matplotlib.figure.Figure at 0x249ee1677f0>"
      ]
     },
     "metadata": {},
     "output_type": "display_data"
    },
    {
     "name": "stdout",
     "output_type": "stream",
     "text": [
      "The put price via Stratified Monte Carlo is: 1.607 and the standard error is 0.086.\n"
     ]
    }
   ],
   "source": [
    "#Market data\n",
    "spot = 41.0\n",
    "rate = 0.08\n",
    "volatility = 0.30\n",
    "dividend = 0.0\n",
    "thedata = probo.MarketData(rate, spot, volatility, dividend)\n",
    "\n",
    "expiry = 0.25\n",
    "strike = 40.0\n",
    "thecall = probo.VanillaPayoff(expiry, strike, probo.call_payoff)\n",
    "theput = probo.VanillaPayoff(expiry, strike, probo.put_payoff)\n",
    "\n",
    "\n",
    "nreps = 1000\n",
    "steps = 1\n",
    "pricer = probo.StratifiedMonteCarloPricer\n",
    "mcengine = probo.MonteCarloEngine(nreps, steps, pricer)\n",
    "\n",
    "#Calculate Price\n",
    "option1 = probo.OptionFacade(thecall, mcengine, thedata)\n",
    "price1 = np.zeros((1000, ))\n",
    "for j in range(1000):\n",
    "    (price1[j], stderr1) = option1.price()\n",
    "plt.figure(1)\n",
    "plt.hist(price1, 50, facecolor='blue')\n",
    "plt.show()\n",
    "print(\"The call price via Stratified Monte Carlo is: {0:.3f} and the standard error is {1:.3f}.\".format(np.average(price1), stderr1))\n",
    "\n",
    "option2 = probo.OptionFacade(theput, mcengine, thedata)\n",
    "price2 = np.zeros((1000, ))\n",
    "for j in range(1000):\n",
    "    (price2[j], stderr2) = option2.price()\n",
    "plt.figure(2)\n",
    "plt.hist(price2, 50, facecolor='green')\n",
    "plt.show()\n",
    "print(\"The put price via Stratified Monte Carlo is: {0:.3f} and the standard error is {1:.3f}.\".format(np.average(price2), stderr2))"
   ]
  },
  {
   "cell_type": "code",
   "execution_count": 8,
   "metadata": {
    "collapsed": true
   },
   "outputs": [],
   "source": [
    "import matplotlib.pyplot as plt\n",
    "\n",
    "def AntitheticMonteCarloPricer(engine, option, data):\n",
    "    expiry = option.expiry\n",
    "    strike = option.strike\n",
    "    (spot, rate, vol, div) = data.get_data()\n",
    "    replications = engine.replications\n",
    "    dt = expiry / engine.time_steps\n",
    "    disc = np.exp(-(rate - div) * dt)\n",
    "    \n",
    "    z1 = np.random.normal(size = replications)\n",
    "    z2 = -z1\n",
    "    z = np.concatenate((z1,z2))\n",
    "    spotT = spot * np.exp((rate - div) * dt + vol * np.sqrt(dt) * z)\n",
    "    payoffT = option.payoff(spotT)\n",
    "\n",
    "    prc = payoffT.mean() * disc\n",
    "    stdError = payoffT.std()/np.sqrt(replications)\n",
    "    return (prc, stdError)"
   ]
  },
  {
   "cell_type": "code",
   "execution_count": 9,
   "metadata": {
    "collapsed": false,
    "scrolled": true
   },
   "outputs": [
    {
     "data": {
      "image/png": "[encoded data removed]",
      "text/plain": [
       "<matplotlib.figure.Figure at 0x249ee0c92e8>"
      ]
     },
     "metadata": {},
     "output_type": "display_data"
    },
    {
     "name": "stdout",
     "output_type": "stream",
     "text": [
      "The call price via Antithetic Monte Carlo is: 3.705 and the standard error is 0.015.\n"
     ]
    },
    {
     "data": {
      "image/png": "[encoded data removed]",
      "text/plain": [
       "<matplotlib.figure.Figure at 0x249edd91400>"
      ]
     },
     "metadata": {},
     "output_type": "display_data"
    },
    {
     "name": "stdout",
     "output_type": "stream",
     "text": [
      "The put price via Antithetic Monte Carlo is: 1.449 and the standard error is 0.008.\n"
     ]
    }
   ],
   "source": [
    "import matplotlib.pyplot as plt\n",
    "\n",
    "\n",
    "#Market Data\n",
    "spot = 41.0\n",
    "rate = 0.08\n",
    "volatility = 0.30\n",
    "dividend = 0.0\n",
    "thedata = probo.MarketData(rate, spot, volatility, dividend)\n",
    "\n",
    "\n",
    "expiry = 0.25\n",
    "strike = 40.0\n",
    "thecall = probo.VanillaPayoff(expiry, strike, probo.call_payoff)\n",
    "theput = probo.VanillaPayoff(expiry, strike, probo.put_payoff)\n",
    "\n",
    "\n",
    "nreps = 100000\n",
    "steps = 1\n",
    "pricer = AntitheticMonteCarloPricer\n",
    "mcengine = probo.MonteCarloEngine(nreps, steps, pricer)\n",
    "\n",
    "#Calculate Price\n",
    "option1 = probo.OptionFacade(thecall, mcengine, thedata)\n",
    "price1 = np.zeros((1000,))\n",
    "for j in range(1000):\n",
    "    (price1[j], stderr1) = option1.price()\n",
    "plt.figure(1)\n",
    "plt.hist(price1, 50)\n",
    "plt.show()\n",
    "print(\"The call price via Antithetic Monte Carlo is: {0:.3f} and the standard error is {1:.3f}.\".format(np.average(price1), stderr1))\n",
    "\n",
    "option2 = probo.OptionFacade(theput, mcengine, thedata)\n",
    "\n",
    "price2 = np.zeros((1000,))\n",
    "for j in range(1000):\n",
    "    (price2[j], stderr2) = option2.price()\n",
    "plt.figure(2)\n",
    "plt.hist(price2, 50, facecolor='green')\n",
    "plt.show()\n",
    "print(\"The put price via Antithetic Monte Carlo is: {0:.3f} and the standard error is {1:.3f}.\".format(np.average(price2), stderr2))"
   ]
  },
  {
   "cell_type": "code",
   "execution_count": 10,
   "metadata": {
    "collapsed": true
   },
   "outputs": [],
   "source": [
    "import matplotlib.pyplot as plt\n",
    "import numpy as np\n",
    "\n",
    "def ControlVariatePricer(engine, option, data):\n",
    "    expiry = option.expiry\n",
    "    strike = option.strike\n",
    "    (spot, rate, volatility, dividend) = data.get_data()\n",
    "    dt = expiry / engine.time_steps\n",
    "    nudt = (rate - dividend - 0.5 * volatility * volatility) * dt\n",
    "    sigsdt = volatility * np.sqrt(dt)\n",
    "    erddt = np.exp((rate - dividend) * dt)    \n",
    "    beta = -1.0\n",
    "    cash_flow_t = np.zeros((engine.replications, ))\n",
    "    price = 0.0\n",
    "\n",
    "    for j in range(engine.replications):\n",
    "        spot_t = spot\n",
    "        convar = 0.0\n",
    "        z = np.random.normal(size=int(engine.time_steps))\n",
    "\n",
    "        for i in range(int(engine.time_steps)):\n",
    "            t = i * dt\n",
    "            delta = probo.BlackScholesDelta(spot, t, strike, expiry, volatility, rate, dividend)\n",
    "            spot_tn = spot_t * np.exp(nudt + sigsdt * z[i])\n",
    "            convar = convar + delta * (spot_tn - spot_t * erddt)\n",
    "            spot_t = spot_tn\n",
    "\n",
    "        cash_flow_t[j] = option.payoff(spot_t) + beta * convar\n",
    "\n",
    "    price = np.exp(-rate * expiry) * cash_flow_t.mean()\n",
    "    stdError = cash_flow_t.std() / np.sqrt(engine.replications)\n",
    "    return (price, stdError)"
   ]
  },
  {
   "cell_type": "code",
   "execution_count": 11,
   "metadata": {
    "collapsed": false
   },
   "outputs": [
    {
     "data": {
      "image/png": "[encoded data removed]",
      "text/plain": [
       "<matplotlib.figure.Figure at 0x249ee025390>"
      ]
     },
     "metadata": {},
     "output_type": "display_data"
    },
    {
     "name": "stdout",
     "output_type": "stream",
     "text": [
      "The call price via Control Variate is: 3.399 and the standard error is 0.054.\n"
     ]
    },
    {
     "data": {
      "image/png": "[encoded data removed]",
      "text/plain": [
       "<matplotlib.figure.Figure at 0x249ede89fd0>"
      ]
     },
     "metadata": {},
     "output_type": "display_data"
    },
    {
     "name": "stdout",
     "output_type": "stream",
     "text": [
      "The put price via Control Variate is: 1.607 and the standard error is 0.198.\n"
     ]
    }
   ],
   "source": [
    "## Set up the market data\n",
    "spot = 41.0\n",
    "rate = 0.08\n",
    "volatility = 0.30\n",
    "dividend = 0.0\n",
    "thedata = probo.MarketData(rate, spot, volatility, dividend)\n",
    "\n",
    "## Set up the option\n",
    "expiry = 0.25\n",
    "strike = 40.0\n",
    "thecall = probo.VanillaPayoff(expiry, strike, probo.call_payoff)\n",
    "theput = probo.VanillaPayoff(expiry, strike, probo.put_payoff)\n",
    "\n",
    "## Set up Monte Carlo\n",
    "nreps = 1000\n",
    "steps = 1\n",
    "pricer = ControlVariatePricer\n",
    "mcengine = probo.MonteCarloEngine(nreps, steps, pricer)\n",
    "\n",
    "## Calculate the price\n",
    "option1 = probo.OptionFacade(thecall, mcengine, thedata)\n",
    "price1 = np.zeros((1000,))\n",
    "for j in range(1000):\n",
    "    (price1[j], stderr1) = option1.price()\n",
    "plt.figure(1)\n",
    "plt.hist(price1, 50)\n",
    "plt.show()\n",
    "print(\"The call price via Control Variate is: {0:.3f} and the standard error is {1:.3f}.\".format(np.average(price1), stderr1))\n",
    "\n",
    "option2 = probo.OptionFacade(theput, mcengine, thedata)\n",
    "price2 = np.zeros((1000,))\n",
    "for j in range(1000):\n",
    "    (price2[j], stderr2) = option2.price()\n",
    "plt.figure(2)\n",
    "plt.hist(price2, 50, facecolor='green')\n",
    "plt.show()\n",
    "print(\"The put price via Control Variate is: {0:.3f} and the standard error is {1:.3f}.\".format(np.average(price2), stderr2))"
   ]
  },
  {
   "cell_type": "code",
   "execution_count": 18,
   "metadata": {
    "collapsed": false
   },
   "outputs": [
    {
     "name": "stdout",
     "output_type": "stream",
     "text": [
      "The call price via Black-Scholes is: 3.377\n"
     ]
    }
   ],
   "source": [
    "thedata = probo.MarketData(rate=.08, spot=41.0, volatility=.3, dividend=0)\n",
    "\n",
    "thecall = probo.VanillaPayoff(payoff=probo.call_payoff, strike=40.0, expiry=(90/365))\n",
    "\n",
    "bsengine = probo.BlackScholesPricingEngine(\"call\", probo.BlackScholesPricer)\n",
    "option3 =  probo.OptionFacade(thecall, bsengine, thedata)\n",
    "price3 = option3.price()\n",
    "print(\"The call price via Black-Scholes is: {0:.3f}\".format(price3))"
   ]
  },
  {
   "cell_type": "code",
   "execution_count": 19,
   "metadata": {
    "collapsed": false
   },
   "outputs": [
    {
     "name": "stdout",
     "output_type": "stream",
     "text": [
      "The put price via Black-Scholes is: 1.596\n"
     ]
    }
   ],
   "source": [
    "thedata = probo.MarketData(rate=.08, spot=41.0, volatility=.3, dividend=0)\n",
    "\n",
    "thecall = probo.VanillaPayoff(payoff=probo.put_payoff, strike=40.0, expiry=(90/365))\n",
    "\n",
    "bsengine = probo.BlackScholesPricingEngine(\"put\", probo.BlackScholesPricer)\n",
    "option3 =  probo.OptionFacade(thecall, bsengine, thedata)\n",
    "price3 = option3.price()\n",
    "print(\"The put price via Black-Scholes is: {0:.3f}\".format(price3))"
   ]
  },
  {
   "cell_type": "markdown",
   "metadata": {},
   "source": [
    "**2.** (20 points) Extend the probo object-oriented options pricing module that we developed\n",
    "in class (available on my Github page) by creating a new class that inherits from class\n",
    "Payoff. Call it StrangePayoff. Use the strategy design pattern as we did with class\n",
    "VanillaPayoff for the following payoff functions\n",
    "\n",
    "• $S_T^2$\n",
    "\n",
    "•$\\sqrt{(S_T)}$\n",
    "\n",
    "• $S_T^{-1}$\n",
    "\n",
    "Use the same market data variables as in problem 1. Estimate the prices for European\n",
    "options with these payoffs using naive, antithetic, and stratified sampling Monte Carlo.\n",
    "Report both prices and standard errors. Compare your answers."
   ]
  },
  {
   "cell_type": "code",
   "execution_count": 12,
   "metadata": {
    "collapsed": true
   },
   "outputs": [],
   "source": [
    "import probo\n",
    "import matplotlib.pyplot as plt"
   ]
  },
  {
   "cell_type": "code",
   "execution_count": 20,
   "metadata": {
    "collapsed": true
   },
   "outputs": [],
   "source": [
    "# Naive\n",
    "import numpy as np\n",
    "\n",
    "def NaiveMonteCarloPricer(engine, option, data):\n",
    "    expiry = option.expiry\n",
    "    strike = option.strike\n",
    "    (spot, rate, vol, div) = data.get_data()\n",
    "    replications = engine.replications\n",
    "    dt = expiry / engine.time_steps\n",
    "    disc = np.exp(-rate * dt)\n",
    "    \n",
    "    z = np.random.normal(size = replications)\n",
    "    spotT = spot * np.exp((rate - div - 0.5 * vol * vol) * dt + vol * np.sqrt(dt) * z)\n",
    "    payoffT = option.payoff(spotT)\n",
    "\n",
    "    prc = payoffT.mean() * disc\n",
    "    stdError=payoffT.std()/np.sqrt(replications)\n",
    "\n",
    "    return (prc, stdError)"
   ]
  },
  {
   "cell_type": "code",
   "execution_count": 60,
   "metadata": {
    "collapsed": false
   },
   "outputs": [
    {
     "ename": "AttributeError",
     "evalue": "type object 'StrangePayoff' has no attribute 'Strange_Squared'",
     "output_type": "error",
     "traceback": [
      "\u001b[0;31m---------------------------------------------------------------------------\u001b[0m",
      "\u001b[0;31mAttributeError\u001b[0m                            Traceback (most recent call last)",
      "\u001b[0;32m<ipython-input-60-14484716ca28>\u001b[0m in \u001b[0;36m<module>\u001b[0;34m()\u001b[0m\n\u001b[1;32m     10\u001b[0m \u001b[0mthedata\u001b[0m \u001b[1;33m=\u001b[0m \u001b[0mprobo\u001b[0m\u001b[1;33m.\u001b[0m\u001b[0mMarketData\u001b[0m\u001b[1;33m(\u001b[0m\u001b[0mrate\u001b[0m\u001b[1;33m,\u001b[0m \u001b[0mspot\u001b[0m\u001b[1;33m,\u001b[0m \u001b[0mvolatility\u001b[0m\u001b[1;33m,\u001b[0m \u001b[0mdividend\u001b[0m\u001b[1;33m)\u001b[0m\u001b[1;33m\u001b[0m\u001b[0m\n\u001b[1;32m     11\u001b[0m \u001b[0mexpiry\u001b[0m \u001b[1;33m=\u001b[0m \u001b[1;36m0.25\u001b[0m\u001b[1;33m\u001b[0m\u001b[0m\n\u001b[0;32m---> 12\u001b[0;31m \u001b[0mStrangeSquared\u001b[0m \u001b[1;33m=\u001b[0m \u001b[0mprobo\u001b[0m\u001b[1;33m.\u001b[0m\u001b[0mStrangePayoff\u001b[0m\u001b[1;33m(\u001b[0m\u001b[0mexpiry\u001b[0m\u001b[1;33m,\u001b[0m \u001b[1;32mNone\u001b[0m\u001b[1;33m,\u001b[0m \u001b[0mprobo\u001b[0m\u001b[1;33m.\u001b[0m\u001b[0mStrangePayoff\u001b[0m\u001b[1;33m.\u001b[0m\u001b[0mStrange_Squared\u001b[0m\u001b[1;33m)\u001b[0m\u001b[1;33m\u001b[0m\u001b[0m\n\u001b[0m\u001b[1;32m     13\u001b[0m \u001b[0mStrangeSqrt\u001b[0m \u001b[1;33m=\u001b[0m \u001b[0mprobo\u001b[0m\u001b[1;33m.\u001b[0m\u001b[0mStrangePayoff\u001b[0m\u001b[1;33m(\u001b[0m\u001b[0mexpiry\u001b[0m\u001b[1;33m,\u001b[0m \u001b[1;32mNone\u001b[0m\u001b[1;33m,\u001b[0m \u001b[0mprobo\u001b[0m\u001b[1;33m.\u001b[0m\u001b[0mStrangePayoff\u001b[0m\u001b[1;33m.\u001b[0m\u001b[0mStrange_Sqrt\u001b[0m\u001b[1;33m)\u001b[0m\u001b[1;33m\u001b[0m\u001b[0m\n\u001b[1;32m     14\u001b[0m \u001b[0mStrangeInverse\u001b[0m \u001b[1;33m=\u001b[0m \u001b[0mprobo\u001b[0m\u001b[1;33m.\u001b[0m\u001b[0mStrangePayoff\u001b[0m\u001b[1;33m(\u001b[0m\u001b[0mexpiry\u001b[0m\u001b[1;33m,\u001b[0m \u001b[1;32mNone\u001b[0m\u001b[1;33m,\u001b[0m \u001b[0mprobo\u001b[0m\u001b[1;33m.\u001b[0m\u001b[0mStrangePayoff\u001b[0m\u001b[1;33m.\u001b[0m\u001b[0mStrange_Inverse\u001b[0m\u001b[1;33m)\u001b[0m\u001b[1;33m\u001b[0m\u001b[0m\n",
      "\u001b[0;31mAttributeError\u001b[0m: type object 'StrangePayoff' has no attribute 'Strange_Squared'"
     ]
    }
   ],
   "source": [
    "import probo\n",
    "import numpy as np\n",
    "import matplotlib.pyplot as plt\n",
    "\n",
    "#Market data\n",
    "spot = 41.0\n",
    "rate = 0.08\n",
    "volatility = 0.30\n",
    "dividend = 0.0\n",
    "thedata = probo.MarketData(rate, spot, volatility, dividend)\n",
    "expiry = 0.25\n",
    "StrangeSquared = probo.StrangePayoff(expiry, None, probo.StrangePayoff.Strange_Squared)\n",
    "StrangeSqrt = probo.StrangePayoff(expiry, None, probo.StrangePayoff.Strange_Sqrt)\n",
    "StrangeInverse = probo.StrangePayoff(expiry, None, probo.StrangePayoff.Strange_Inverse)\n",
    "\n",
    "nreps = 100000\n",
    "steps = 1\n",
    "pricer = probo.NaiveMonteCarloPricer\n",
    "mcengine = probo.MonteCarloEngine(nreps, steps, pricer)\n",
    "\n",
    "#Calculate Price\n",
    "option1 = probo.OptionFacade(StrangeSquared, mcengine, thedata)\n",
    "price1=np.zeros((1000,))\n",
    "for j in range(1000):\n",
    "    (price1[j], stderr1) = option1.price()\n",
    "plt.figure(1)\n",
    "plt.hist(price1, 50, facecolor='blue')\n",
    "plt.show()\n",
    "print(\"The price via Naive Monte Carlo for Spot Squared is: {0:.3f} and the standard error is {1:.3f}.\".format(np.average(price1), stderr1))\n",
    "\n",
    "option2 = probo.OptionFacade(StrangeSqrt, mcengine, thedata)\n",
    "price2 = np.zeros((1000,))\n",
    "for j in range(1000):\n",
    "    (price2[j], stderr2) = option2.price()\n",
    "plt.figure(2)\n",
    "plt.hist(price2, 50, facecolor='green')\n",
    "plt.show()\n",
    "print(\"The price via Naive Monte Carlo for Sqrt of Spot is: {0:.3f} and the standard error is {1:.3f}.\".format(np.average(price2), stderr2))\n",
    "\n",
    "option3 = probo.OptionFacade(StrangeInverse, mcengine, thedata)\n",
    "price3 = np.zeros((1000,))\n",
    "for j in range(1000):\n",
    "    (price2[j], stderr2) = option3.price()\n",
    "plt.figure(2)\n",
    "plt.hist(price3, 50, facecolor='green')\n",
    "plt.show()\n",
    "print(\"The price via Naive Monte Carlo for Sqrt of Spot is: {0:.3f} and the standard error is {1:.3f}.\".format(np.average(price2), stderr2))"
   ]
  },
  {
   "cell_type": "code",
   "execution_count": null,
   "metadata": {
    "collapsed": true
   },
   "outputs": [],
   "source": []
  },
  {
   "cell_type": "markdown",
   "metadata": {},
   "source": [
    "**3.** (40 points) Price an arithmetic Asian call option as in the McDonald Chapter 19 reading\n",
    "using the geometric Asian option pricing formula as a control variate (as outlined in Chapter\n",
    "19). Compare your answers to the naive Monte Carlo method. Compute prices and standard\n",
    "errors. Produce histograms and convergence graphs as in problem 1."
   ]
  },
  {
   "cell_type": "code",
   "execution_count": 22,
   "metadata": {
    "collapsed": false
   },
   "outputs": [
    {
     "name": "stdout",
     "output_type": "stream",
     "text": [
      "call price =  2.029\n"
     ]
    }
   ],
   "source": [
    "import scipy as sp\n",
    "s0=41.0\n",
    "x=40.0\n",
    "T=0.25\n",
    "r=0.08\n",
    "sigma=0.3\n",
    "n_simulation=100\n",
    "n_steps=100\n",
    "dt=T/n_steps\n",
    "call=sp.zeros([n_simulation], dtype=float)\n",
    "for j in range(0, n_simulation):\n",
    "    sT=s0\n",
    "    total=0\n",
    "    for i in range(0,int(n_steps)):\n",
    "        e=sp.random.normal()\n",
    "        sT*=sp.exp((r-0.5*sigma*sigma)*dt+sigma*e*sp.sqrt(dt))\n",
    "        total+=sT\n",
    "    price_average=total/n_steps\n",
    "    call[j]=max(price_average-x,0)\n",
    "call_price=sp.mean(call)*sp.exp(-r*T)\n",
    "print (\"call price = \", round(call_price,3))"
   ]
  }
 ],
 "metadata": {
  "anaconda-cloud": {},
  "kernelspec": {
   "display_name": "Python [default]",
   "language": "python",
   "name": "python3"
  },
  "language_info": {
   "codemirror_mode": {
    "name": "ipython",
    "version": 3
   },
   "file_extension": ".py",
   "mimetype": "text/x-python",
   "name": "python",
   "nbconvert_exporter": "python",
   "pygments_lexer": "ipython3",
   "version": "3.5.2"
  }
 },
 "nbformat": 4,
 "nbformat_minor": 1
}
