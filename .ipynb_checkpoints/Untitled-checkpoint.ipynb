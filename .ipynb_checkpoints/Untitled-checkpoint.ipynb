{
 "cells": [
  {
   "cell_type": "code",
   "execution_count": 17,
   "metadata": {
    "collapsed": false
   },
   "outputs": [],
   "source": [
    "import probo\n",
    "import numpy as np\n",
    "import matplotlib.pyplot as plt\n",
    "\n",
    "#Monte Carlo Instead of Black-Scholes Delta\n",
    "\n",
    "def ControlVariatePricer(engine, option, data):\n",
    "    expiry = option.expiry\n",
    "    strike = option.strike\n",
    "    (spot, rate, volatility, dividend) = data.get_data()\n",
    "    dt = expiry / engine.time_steps\n",
    "#    nudt = (rate - dividend - 0.5 * volatility * volatility) * dt\n",
    "#    sigsdt = volatility * np.sqrt(dt)\n",
    "#    erddt = np.exp((rate - dividend) * dt)    \n",
    "#    beta = -1.0\n",
    "    cash_flow_t = np.zeros((engine.replications, ))\n",
    "    price = 0.0\n",
    "    replications = engine.replications\n",
    "    disc = np.exp(-rate * dt)\n",
    "\n",
    "#    for j in range(engine.replications):\n",
    "#        spot_t = spot\n",
    "#        convar = 0.0\n",
    "#        z = np.random.normal(size=int(engine.time_steps))\n",
    "\n",
    "#        for i in range(int(engine.time_steps)):\n",
    "#            t = i * dt\n",
    "#            delta = probo.BlackScholesDelta(spot, t, strike, expiry, volatility, rate, dividend)\n",
    "#            spot_tn = spot_t * np.exp(nudt + sigsdt * z[i])\n",
    "#            convar = convar + delta * (spot_tn - spot_t * erddt)\n",
    "#            spot_t = spot_tn\n",
    "\n",
    "#        cash_flow_t[j] = option.payoff(spot_t) + beta * convar\n",
    "\n",
    "    z = np.random.normal(size = replications)\n",
    "    spotT = spot * np.exp((rate - dividend - 0.5 * volatility * volatility) * dt + volatility * np.sqrt(dt) * z)\n",
    "    cash_flow_t = option.payoff(spotT)\n",
    "\n",
    "    price = cash_flow_t.mean() * disc\n",
    "    stdError=cash_flow_t.std()/np.sqrt(replications)\n",
    "\n",
    "#    price = np.exp(-rate * expiry) * cash_flow_t.mean()\n",
    "#    stdError = cash_flow_t.std() / np.sqrt(engine.replications)\n",
    "\n",
    "    return (price, stdError)"
   ]
  },
  {
   "cell_type": "code",
   "execution_count": 21,
   "metadata": {
    "collapsed": false
   },
   "outputs": [
    {
     "data": {
      "image/png": "[encoded data removed]",
      "text/plain": [
       "<matplotlib.figure.Figure at 0x2882e1a3278>"
      ]
     },
     "metadata": {},
     "output_type": "display_data"
    },
    {
     "name": "stdout",
     "output_type": "stream",
     "text": [
      "The call price via Monte Carlo Control Variate is: 3.399 and the standard error is 0.146.\n"
     ]
    },
    {
     "data": {
      "image/png": "[encoded data removed]",
      "text/plain": [
       "<matplotlib.figure.Figure at 0x2882e1845f8>"
      ]
     },
     "metadata": {},
     "output_type": "display_data"
    },
    {
     "name": "stdout",
     "output_type": "stream",
     "text": [
      "The put price via Monte Carlo Control Variate is: 1.609 and the standard error is 0.086.\n"
     ]
    }
   ],
   "source": [
    "## Set up the market data\n",
    "spot = 41.0\n",
    "rate = 0.08\n",
    "volatility = 0.30\n",
    "dividend = 0.0\n",
    "thedata = probo.MarketData(rate, spot, volatility, dividend)\n",
    "\n",
    "## Set up the option\n",
    "expiry = 0.25\n",
    "strike = 40.0\n",
    "thecall = probo.VanillaPayoff(expiry, strike, probo.call_payoff)\n",
    "theput = probo.VanillaPayoff(expiry, strike, probo.put_payoff)\n",
    "\n",
    "## Set up Monte Carlo\n",
    "nreps = 1000\n",
    "steps = 1\n",
    "pricer = ControlVariatePricer\n",
    "mcengine = probo.MonteCarloEngine(nreps, steps, pricer)\n",
    "\n",
    "## Calculate the price\n",
    "option1 = probo.OptionFacade(thecall, mcengine, thedata)\n",
    "price1 = np.zeros((1000,))\n",
    "for j in range(1000):\n",
    "    (price1[j], stderr1) = option1.price()\n",
    "plt.figure(1)\n",
    "plt.hist(price1, 50)\n",
    "plt.show()\n",
    "print(\"The call price via Monte Carlo Control Variate is: {0:.3f} and the standard error is {1:.3f}.\".format(np.average(price1), stderr1))\n",
    "\n",
    "option2 = probo.OptionFacade(theput, mcengine, thedata)\n",
    "price2 = np.zeros((1000,))\n",
    "for j in range(1000):\n",
    "    (price2[j], stderr2) = option2.price()\n",
    "plt.figure(2)\n",
    "plt.hist(price2, 50, facecolor='green')\n",
    "plt.show()\n",
    "print(\"The put price via Monte Carlo Control Variate is: {0:.3f} and the standard error is {1:.3f}.\".format(np.average(price2), stderr2))"
   ]
  }
 ],
 "metadata": {
  "kernelspec": {
   "display_name": "Python [default]",
   "language": "python",
   "name": "python3"
  },
  "language_info": {
   "codemirror_mode": {
    "name": "ipython",
    "version": 3
   },
   "file_extension": ".py",
   "mimetype": "text/x-python",
   "name": "python",
   "nbconvert_exporter": "python",
   "pygments_lexer": "ipython3",
   "version": "3.5.2"
  }
 },
 "nbformat": 4,
 "nbformat_minor": 1
}
